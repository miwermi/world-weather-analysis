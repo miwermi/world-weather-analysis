{
 "cells": [
  {
   "cell_type": "code",
   "execution_count": 1,
   "id": "7b72e605",
   "metadata": {},
   "outputs": [],
   "source": [
    "# Import the random module.\n",
    "import random"
   ]
  },
  {
   "cell_type": "code",
   "execution_count": 8,
   "id": "26d5b30f",
   "metadata": {},
   "outputs": [
    {
     "data": {
      "text/plain": [
       "54"
      ]
     },
     "execution_count": 8,
     "metadata": {},
     "output_type": "execute_result"
    }
   ],
   "source": [
    "# Using RandINT, we'll get a single integer between -90 and 90 (we need two latitudes between -90 and 90).\n",
    "random.randint(-90, 90)"
   ]
  },
  {
   "cell_type": "code",
   "execution_count": 12,
   "id": "201090a5",
   "metadata": {},
   "outputs": [
    {
     "data": {
      "text/plain": [
       "0.8372932921004327"
      ]
     },
     "execution_count": 12,
     "metadata": {},
     "output_type": "execute_result"
    }
   ],
   "source": [
    "# Using random.RANDOM we get a decimal point number between 0 and 1.0\n",
    "random.random()"
   ]
  },
  {
   "cell_type": "code",
   "execution_count": 14,
   "id": "9399c99c",
   "metadata": {},
   "outputs": [
    {
     "data": {
      "text/plain": [
       "77.06353083895829"
      ]
     },
     "execution_count": 14,
     "metadata": {},
     "output_type": "execute_result"
    }
   ],
   "source": [
    "#By combining them we can get a random latitude with a floating point... \n",
    "# -- we account for the possibiltiy of 1\n",
    "random_number = random.randint(-90, 89) + random.random()\n",
    "random_number"
   ]
  },
  {
   "cell_type": "code",
   "execution_count": 16,
   "id": "06f0609a",
   "metadata": {},
   "outputs": [
    {
     "data": {
      "text/plain": [
       "[-43.80140722377584,\n",
       " 1.637411063698516,\n",
       " -55.38109487121264,\n",
       " -64.84910828207401,\n",
       " -20.70379464336232,\n",
       " -35.24393305223845,\n",
       " -28.416462640446035,\n",
       " 50.126451298865405,\n",
       " 57.47121703644487,\n",
       " 24.17264546327136]"
      ]
     },
     "execution_count": 16,
     "metadata": {},
     "output_type": "execute_result"
    }
   ],
   "source": [
    "#possible method of generating random latitudes:\n",
    "\n",
    "x = 1\n",
    "latitudes = []\n",
    "while x < 11:\n",
    "    random_lat = random.randint(-90, 89) + random.random()\n",
    "    latitudes.append(random_lat)\n",
    "    x += 1\n",
    "    \n",
    "latitudes"
   ]
  },
  {
   "cell_type": "code",
   "execution_count": 18,
   "id": "66c67ec0",
   "metadata": {},
   "outputs": [
    {
     "data": {
      "text/plain": [
       "81"
      ]
     },
     "execution_count": 18,
     "metadata": {},
     "output_type": "execute_result"
    }
   ],
   "source": [
    "#better method... randRANGE... \n",
    "random.randrange(-90, 90, step=3)\n",
    "\n",
    "#(could again add the random.random above to get floating point - or...)"
   ]
  },
  {
   "cell_type": "code",
   "execution_count": 19,
   "id": "de8508f1",
   "metadata": {},
   "outputs": [
    {
     "data": {
      "text/plain": [
       "75.70082642491008"
      ]
     },
     "execution_count": 19,
     "metadata": {},
     "output_type": "execute_result"
    }
   ],
   "source": [
    "#The uniform() function will allow us to generate a floating-point decimal number between two given numbers inside the parentheses.\n",
    "random.uniform(-90, 90)"
   ]
  },
  {
   "cell_type": "code",
   "execution_count": 20,
   "id": "16aaebb1",
   "metadata": {},
   "outputs": [
    {
     "data": {
      "text/plain": [
       "34.667604407083175"
      ]
     },
     "execution_count": 20,
     "metadata": {},
     "output_type": "execute_result"
    }
   ],
   "source": [
    "# Import the NumPy module (math panda - has a built in random)\n",
    "import numpy as np\n",
    "\n",
    "np.random.uniform(-90.000, 90.000)"
   ]
  },
  {
   "cell_type": "code",
   "execution_count": 22,
   "id": "de053ee9",
   "metadata": {},
   "outputs": [
    {
     "data": {
      "text/plain": [
       "array([ 51.78647384,  57.97149376, -30.11078817, -60.96169299,\n",
       "        83.05408846, -40.92751837, -65.21357088,  78.15546468,\n",
       "       -32.8326018 ,  69.08847163,  58.18013733,  10.1906312 ,\n",
       "       -80.8896436 , -75.6968788 ,   8.28899881,  89.43759251,\n",
       "        16.65573628, -40.2569304 , -57.48477923, -87.02414101,\n",
       "        34.37159887, -50.52237913,  62.53636312, -37.22644208,\n",
       "        62.4236928 ,  12.91378818,  55.68471367, -76.87715814,\n",
       "         0.41947646,   4.69360942,  30.97303969,  -7.10180286,\n",
       "        72.36802842, -53.98461911,  69.15915544,  35.07231207,\n",
       "        67.74313127, -84.71981542, -40.097178  ,  -9.87513834,\n",
       "        30.9973735 ,  68.76993115,  80.10212894, -44.13910278,\n",
       "        81.41511723, -11.17038525,  46.16867296, -82.4700483 ,\n",
       "        25.82628107,  -9.97690734])"
      ]
     },
     "execution_count": 22,
     "metadata": {},
     "output_type": "execute_result"
    }
   ],
   "source": [
    "np.random.uniform(low=-90, high=90, size = 50)"
   ]
  },
  {
   "cell_type": "code",
   "execution_count": 23,
   "id": "64d5989b",
   "metadata": {},
   "outputs": [
    {
     "name": "stdout",
     "output_type": "stream",
     "text": [
      "12.6 µs ± 52.1 ns per loop (mean ± std. dev. of 7 runs, 100000 loops each)\n"
     ]
    }
   ],
   "source": [
    "#We need 1500 and to see how long that will take!\n",
    "import timeit\n",
    "%timeit np.random.uniform(-90.000, 90.000, size=1500)"
   ]
  },
  {
   "cell_type": "code",
   "execution_count": 24,
   "id": "a14f69c7",
   "metadata": {},
   "outputs": [
    {
     "name": "stdout",
     "output_type": "stream",
     "text": [
      "1.28 ms ± 12 µs per loop (mean ± std. dev. of 7 runs, 1000 loops each)\n"
     ]
    }
   ],
   "source": [
    "def latitudes(size):\n",
    "    latitudes = []\n",
    "    x = 0\n",
    "    while x < (size):\n",
    "        random_lat = random.randint(-90, 90) + random.random()\n",
    "        latitudes.append(random_lat)\n",
    "        x += 1\n",
    "    return latitudes\n",
    "\n",
    "# Call the function with 1500.\n",
    "%timeit latitudes(1500)"
   ]
  },
  {
   "cell_type": "code",
   "execution_count": 25,
   "id": "c854e5b5",
   "metadata": {},
   "outputs": [
    {
     "name": "stdout",
     "output_type": "stream",
     "text": [
      "2.47 ms ± 36.4 µs per loop (mean ± std. dev. of 7 runs, 100 loops each)\n"
     ]
    }
   ],
   "source": [
    "#ABOVE: In[23] is a u|s microsecond reading\n",
    "#       In[24] is a ms millisecond reading\n",
    "#       MICROSECONDS are faster! the first one is faster... and it's one line of code.\n",
    "\n",
    "#Testing the one line version in the function:\n",
    "def latitudes(size):\n",
    "    latitudes = []\n",
    "    x = 0\n",
    "    while x < (size):\n",
    "        random_lat = np.random.uniform(-90.000, 90.000)\n",
    "        latitudes.append(random_lat)\n",
    "        x += 1\n",
    "    return latitudes\n",
    "\n",
    "# Call the function with 1500.\n",
    "%timeit latitudes(1500)"
   ]
  },
  {
   "cell_type": "code",
   "execution_count": 1,
   "id": "9fbecace",
   "metadata": {},
   "outputs": [],
   "source": [
    "# Import linear regression from the SciPy stats module.\n",
    "from scipy.stats import linregress"
   ]
  },
  {
   "cell_type": "code",
   "execution_count": 2,
   "id": "26af6935",
   "metadata": {},
   "outputs": [],
   "source": [
    "# Create an equal number of latitudes and temperatures.\n",
    "lats = [42.5, 43.9, 8.1, 36.8, 79.9, 69.1, 25.7, 15.3, 12.7, 64.5]\n",
    "temps = [80.5, 75.3, 90.9, 90.0, 40.4, 62.3, 85.4, 79.6, 72.5, 72.0]"
   ]
  },
  {
   "cell_type": "code",
   "execution_count": 3,
   "id": "dce2ac72",
   "metadata": {},
   "outputs": [
    {
     "name": "stdout",
     "output_type": "stream",
     "text": [
      "y = -0.45x + 92.94\n",
      "The p-value is: 0.011\n"
     ]
    }
   ],
   "source": [
    "# Perform linear regression.\n",
    "(slope, intercept, r_value, p_value, std_err) = linregress(lats, temps)\n",
    "# Get the equation of the line.\n",
    "line_eq = \"y = \" + str(round(slope,2)) + \"x + \" + str(round(intercept,2))\n",
    "print(line_eq)\n",
    "print(f\"The p-value is: {p_value:.3f}\")"
   ]
  },
  {
   "cell_type": "code",
   "execution_count": null,
   "id": "174a67b7",
   "metadata": {},
   "outputs": [],
   "source": []
  }
 ],
 "metadata": {
  "kernelspec": {
   "display_name": "PythonData",
   "language": "python",
   "name": "pythondata"
  },
  "language_info": {
   "codemirror_mode": {
    "name": "ipython",
    "version": 3
   },
   "file_extension": ".py",
   "mimetype": "text/x-python",
   "name": "python",
   "nbconvert_exporter": "python",
   "pygments_lexer": "ipython3",
   "version": "3.9.7"
  }
 },
 "nbformat": 4,
 "nbformat_minor": 5
}
